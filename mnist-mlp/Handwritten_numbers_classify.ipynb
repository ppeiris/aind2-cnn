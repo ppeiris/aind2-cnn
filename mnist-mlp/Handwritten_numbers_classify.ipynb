{
 "cells": [
  {
   "cell_type": "markdown",
   "metadata": {},
   "source": [
    "# Load the data"
   ]
  },
  {
   "cell_type": "code",
   "execution_count": 1,
   "metadata": {},
   "outputs": [
    {
     "name": "stderr",
     "output_type": "stream",
     "text": [
      "Using TensorFlow backend.\n"
     ]
    }
   ],
   "source": [
    "from keras.datasets import mnist\n",
    "import matplotlib.pyplot as plt\n",
    "%matplotlib inline\n",
    "import matplotlib.cm as cm\n",
    "import numpy as np\n",
    "from keras.utils import np_utils\n",
    "from keras.models import Sequential\n",
    "from keras.layers import Dense, Dropout, Flatten"
   ]
  },
  {
   "cell_type": "code",
   "execution_count": 2,
   "metadata": {
    "collapsed": true
   },
   "outputs": [],
   "source": [
    "(x_train, y_train), (x_test, y_test) = mnist.load_data()"
   ]
  },
  {
   "cell_type": "code",
   "execution_count": 3,
   "metadata": {},
   "outputs": [
    {
     "data": {
      "text/plain": [
       "<matplotlib.image.AxesImage at 0x7fc29a4287b8>"
      ]
     },
     "execution_count": 3,
     "metadata": {},
     "output_type": "execute_result"
    },
    {
     "data": {
      "image/png": "[encoded data removed]",
      "text/plain": [
       "<matplotlib.figure.Figure at 0x7fc29a6d8f60>"
      ]
     },
     "metadata": {},
     "output_type": "display_data"
    }
   ],
   "source": [
    "fig = plt.figure(figsize=(20,20))\n",
    "ax = fig.add_subplot(1, 6, 1)\n",
    "ax.imshow(x_train[1], cmap='gray')"
   ]
  },
  {
   "cell_type": "code",
   "execution_count": 4,
   "metadata": {
    "collapsed": true
   },
   "outputs": [],
   "source": [
    "# rescale the data \n",
    "\n",
    "x_train_scaled = x_train/255\n",
    "x_test_scaled = x_test/255"
   ]
  },
  {
   "cell_type": "code",
   "execution_count": 5,
   "metadata": {},
   "outputs": [],
   "source": [
    "# create vecto with 1 and 0 for y lables \n",
    "\n",
    "y_train_encode = np_utils.to_categorical(y_train, 10)\n",
    "y_test_encode = np_utils.to_categorical(y_test, 10)"
   ]
  },
  {
   "cell_type": "code",
   "execution_count": 6,
   "metadata": {},
   "outputs": [
    {
     "data": {
      "text/plain": [
       "array([[ 0.,  0.,  0.,  0.,  0.,  1.,  0.,  0.,  0.,  0.],\n",
       "       [ 1.,  0.,  0.,  0.,  0.,  0.,  0.,  0.,  0.,  0.],\n",
       "       [ 0.,  0.,  0.,  0.,  1.,  0.,  0.,  0.,  0.,  0.],\n",
       "       [ 0.,  1.,  0.,  0.,  0.,  0.,  0.,  0.,  0.,  0.],\n",
       "       [ 0.,  0.,  0.,  0.,  0.,  0.,  0.,  0.,  0.,  1.],\n",
       "       [ 0.,  0.,  1.,  0.,  0.,  0.,  0.,  0.,  0.,  0.],\n",
       "       [ 0.,  1.,  0.,  0.,  0.,  0.,  0.,  0.,  0.,  0.],\n",
       "       [ 0.,  0.,  0.,  1.,  0.,  0.,  0.,  0.,  0.,  0.],\n",
       "       [ 0.,  1.,  0.,  0.,  0.,  0.,  0.,  0.,  0.,  0.],\n",
       "       [ 0.,  0.,  0.,  0.,  1.,  0.,  0.,  0.,  0.,  0.]])"
      ]
     },
     "execution_count": 6,
     "metadata": {},
     "output_type": "execute_result"
    }
   ],
   "source": [
    "y_train_encode[:10]"
   ]
  },
  {
   "cell_type": "code",
   "execution_count": 7,
   "metadata": {},
   "outputs": [
    {
     "data": {
      "text/plain": [
       "(60000, 28, 28)"
      ]
     },
     "execution_count": 7,
     "metadata": {},
     "output_type": "execute_result"
    }
   ],
   "source": [
    "# this dataset has 60000 records and each reacord is a 2d array of 28x28\n",
    "x_train_scaled.shape"
   ]
  },
  {
   "cell_type": "markdown",
   "metadata": {},
   "source": [
    "Neural Network is using relu actication function except in the last layer. \n",
    "\n",
    "### relu activation function \n",
    "relu activation function has following properties\n",
    "- All the negative values will map to 0 (since the image has the min value = 0, this is a good idea)\n",
    "- does not change the positive values (values range in a gray scale from 0 to 255, this is a good idea)\n",
    "- This also help to avoid the vanishing gradiant problem \n",
    "\n",
    "\n",
    "![title](relu.jpeg)\n",
    "\n"
   ]
  },
  {
   "cell_type": "code",
   "execution_count": 8,
   "metadata": {},
   "outputs": [
    {
     "name": "stdout",
     "output_type": "stream",
     "text": [
      "_________________________________________________________________\n",
      "Layer (type)                 Output Shape              Param #   \n",
      "=================================================================\n",
      "flatten_1 (Flatten)          (None, 784)               0         \n",
      "_________________________________________________________________\n",
      "dense_1 (Dense)              (None, 512)               401920    \n",
      "_________________________________________________________________\n",
      "dropout_1 (Dropout)          (None, 512)               0         \n",
      "_________________________________________________________________\n",
      "dense_2 (Dense)              (None, 512)               262656    \n",
      "_________________________________________________________________\n",
      "dropout_2 (Dropout)          (None, 512)               0         \n",
      "_________________________________________________________________\n",
      "dense_3 (Dense)              (None, 10)                5130      \n",
      "=================================================================\n",
      "Total params: 669,706.0\n",
      "Trainable params: 669,706.0\n",
      "Non-trainable params: 0.0\n",
      "_________________________________________________________________\n"
     ]
    }
   ],
   "source": [
    "# create a CNN \n",
    "\n",
    "model = Sequential()\n",
    "\n",
    "model.add(Flatten(input_shape=x_train_scaled.shape[1:]))\n",
    "\n",
    "model.add(Dense(512, activation='relu'))\n",
    "\n",
    "model.add(Dropout(0.2))\n",
    "model.add(Dense(512, activation='relu'))\n",
    "model.add(Dropout(0.2))\n",
    "model.add(Dense(10, activation='softmax'))\n",
    "\n",
    "# summarize the model\n",
    "model.summary()\n"
   ]
  },
  {
   "cell_type": "code",
   "execution_count": 9,
   "metadata": {},
   "outputs": [],
   "source": [
    "model.compile(\n",
    "    loss='categorical_crossentropy', \n",
    "    optimizer='rmsprop', \n",
    "    metrics=['accuracy'])"
   ]
  },
  {
   "cell_type": "markdown",
   "metadata": {},
   "source": [
    "# Evalucate the model before training \n",
    "\n",
    "This model has some random weights in the begining and give some treible results.\n"
   ]
  },
  {
   "cell_type": "code",
   "execution_count": 10,
   "metadata": {
    "collapsed": true
   },
   "outputs": [],
   "source": [
    "score = model.evaluate(x_test_scaled, y_test_encode, verbose=0)"
   ]
  },
  {
   "cell_type": "code",
   "execution_count": 11,
   "metadata": {},
   "outputs": [
    {
     "data": {
      "text/plain": [
       "8.3599999999999994"
      ]
     },
     "execution_count": 11,
     "metadata": {},
     "output_type": "execute_result"
    }
   ],
   "source": [
    "score[1]*100 # Accuracy"
   ]
  },
  {
   "cell_type": "markdown",
   "metadata": {
    "collapsed": true
   },
   "source": [
    "# Train the Model"
   ]
  },
  {
   "cell_type": "code",
   "execution_count": 12,
   "metadata": {
    "collapsed": true
   },
   "outputs": [],
   "source": [
    "from keras.callbacks import ModelCheckpoint"
   ]
  },
  {
   "cell_type": "code",
   "execution_count": 13,
   "metadata": {
    "collapsed": true
   },
   "outputs": [],
   "source": [
    "checkpointer = ModelCheckpoint(\n",
    "    filepath=\"mnist.model.best.prabath.hdf5\", \n",
    "    verbose=1,\n",
    "    save_best_only=True\n",
    ")"
   ]
  },
  {
   "cell_type": "code",
   "execution_count": 14,
   "metadata": {},
   "outputs": [
    {
     "name": "stdout",
     "output_type": "stream",
     "text": [
      "Train on 48000 samples, validate on 12000 samples\n",
      "Epoch 1/10\n",
      "47744/48000 [============================>.] - ETA: 0s - loss: 0.2751 - acc: 0.9149- ETA: 1s - loss: 0Epoch 00000: val_loss improved from inf to 0.12152, saving model to mnist.model.best.prabath.hdf5\n",
      "48000/48000 [==============================] - 13s - loss: 0.2745 - acc: 0.9151 - val_loss: 0.1215 - val_acc: 0.9622\n",
      "Epoch 2/10\n",
      "47744/48000 [============================>.] - ETA: 0s - loss: 0.1139 - acc: 0.9653- ETA: 1s - loss: 0 - ETA: 0s - loss: 0.1143 - acc: 0Epoch 00001: val_loss improved from 0.12152 to 0.09494, saving model to mnist.model.best.prabath.hdf5\n",
      "48000/48000 [==============================] - 13s - loss: 0.1136 - acc: 0.9653 - val_loss: 0.0949 - val_acc: 0.9722\n",
      "Epoch 3/10\n",
      "47744/48000 [============================>.] - ETA: 0s - loss: 0.0789 - acc: 0.9761Epoch 00002: val_loss improved from 0.09494 to 0.08775, saving model to mnist.model.best.prabath.hdf5\n",
      "48000/48000 [==============================] - 13s - loss: 0.0790 - acc: 0.9761 - val_loss: 0.0877 - val_acc: 0.9752\n",
      "Epoch 4/10\n",
      "47744/48000 [============================>.] - ETA: 0s - loss: 0.0624 - acc: 0.9809- ETA: 6s - loss: 0.06 - ETA: 5s - loss: 0.06 - ETA: 4s - loss: 0 - ETA: - ETA: 0s - loss: 0.0605 - Epoch 00003: val_loss improved from 0.08775 to 0.08653, saving model to mnist.model.best.prabath.hdf5\n",
      "48000/48000 [==============================] - 13s - loss: 0.0622 - acc: 0.9809 - val_loss: 0.0865 - val_acc: 0.9778\n",
      "Epoch 5/10\n",
      "47744/48000 [============================>.] - ETA: 0s - loss: 0.0490 - acc: 0.9848- ETA: 3s - loss: 0Epoch 00004: val_loss did not improve\n",
      "48000/48000 [==============================] - 13s - loss: 0.0489 - acc: 0.9849 - val_loss: 0.0938 - val_acc: 0.9771\n",
      "Epoch 6/10\n",
      "47744/48000 [============================>.] - ETA: 0s - loss: 0.0450 - acc: 0.9864Epoch 00005: val_loss did not improve\n",
      "48000/48000 [==============================] - 13s - loss: 0.0450 - acc: 0.9864 - val_loss: 0.0984 - val_acc: 0.9788\n",
      "Epoch 7/10\n",
      "47744/48000 [============================>.] - ETA: 0s - loss: 0.0375 - acc: 0.9891Epoch 00006: val_loss did not improve\n",
      "48000/48000 [==============================] - 13s - loss: 0.0373 - acc: 0.9891 - val_loss: 0.1021 - val_acc: 0.9768\n",
      "Epoch 8/10\n",
      "47744/48000 [============================>.] - ETA: 0s - loss: 0.0338 - acc: 0.9898Epoch 00007: val_loss did not improve\n",
      "48000/48000 [==============================] - 13s - loss: 0.0339 - acc: 0.9898 - val_loss: 0.1042 - val_acc: 0.9791\n",
      "Epoch 9/10\n",
      "47744/48000 [============================>.] - ETA: 0s - loss: 0.0296 - acc: 0.9911- ETA: 2s - loss: - ETA: 0s - loss: 0.0299 - acEpoch 00008: val_loss did not improve\n",
      "48000/48000 [==============================] - 13s - loss: 0.0296 - acc: 0.9911 - val_loss: 0.1001 - val_acc: 0.9801\n",
      "Epoch 10/10\n",
      "47744/48000 [============================>.] - ETA: 0s - loss: 0.0263 - acc: 0.9919Epoch 00009: val_loss did not improve\n",
      "48000/48000 [==============================] - 13s - loss: 0.0263 - acc: 0.9919 - val_loss: 0.1062 - val_acc: 0.9784\n"
     ]
    }
   ],
   "source": [
    "hist = model.fit(\n",
    "    x_train_scaled, \n",
    "    y_train_encode, \n",
    "    batch_size=128, \n",
    "    epochs=10, \n",
    "    validation_split=0.2, \n",
    "    callbacks=[checkpointer], \n",
    "    verbose=1\n",
    ")"
   ]
  },
  {
   "cell_type": "code",
   "execution_count": 15,
   "metadata": {
    "collapsed": true
   },
   "outputs": [],
   "source": [
    "model.load_weights(\"mnist.model.best.prabath.hdf5\")"
   ]
  },
  {
   "cell_type": "code",
   "execution_count": 20,
   "metadata": {},
   "outputs": [
    {
     "name": "stdout",
     "output_type": "stream",
     "text": [
      " 9728/10000 [============================>.] - ETA: 0s"
     ]
    }
   ],
   "source": [
    "score = model.evaluate(x_test_scaled, y_test_encode, verbose=1)"
   ]
  },
  {
   "cell_type": "code",
   "execution_count": 22,
   "metadata": {},
   "outputs": [
    {
     "data": {
      "text/plain": [
       "[0.078833036235836332, 0.97899999999999998]"
      ]
     },
     "execution_count": 22,
     "metadata": {},
     "output_type": "execute_result"
    }
   ],
   "source": [
    "score"
   ]
  },
  {
   "cell_type": "code",
   "execution_count": null,
   "metadata": {
    "collapsed": true
   },
   "outputs": [],
   "source": []
  }
 ],
 "metadata": {
  "kernelspec": {
   "display_name": "Python 3",
   "language": "python",
   "name": "python3"
  },
  "language_info": {
   "codemirror_mode": {
    "name": "ipython",
    "version": 3
   },
   "file_extension": ".py",
   "mimetype": "text/x-python",
   "name": "python",
   "nbconvert_exporter": "python",
   "pygments_lexer": "ipython3",
   "version": "3.6.1"
  },
  "latex_envs": {
   "bibliofile": "biblio.bib",
   "cite_by": "apalike",
   "current_citInitial": 1,
   "eqLabelWithNumbers": true,
   "eqNumInitial": 0
  },
  "toc": {
   "toc_cell": false,
   "toc_number_sections": true,
   "toc_threshold": 6,
   "toc_window_display": false
  }
 },
 "nbformat": 4,
 "nbformat_minor": 2
}
